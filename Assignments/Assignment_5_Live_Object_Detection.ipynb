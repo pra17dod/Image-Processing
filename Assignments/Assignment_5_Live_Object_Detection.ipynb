{
 "cells": [
  {
   "cell_type": "code",
   "execution_count": null,
   "metadata": {},
   "outputs": [],
   "source": [
    "import cv2\n",
    "import numpy as np\n",
    "\n",
    "\n",
    "def Object_detect(new_image, image_template):\n",
    "    \n",
    "    image1 = cv2.cvtColor(new_image, cv2.COLOR_BGR2GRAY)\n",
    "    image2 = image_template\n",
    "    \n",
    "    orb = cv2.ORB_create(1000, 1.4)\n",
    "\n",
    "    (kp1, des1) = orb.detectAndCompute(image1, None)\n",
    "    (kp2, des2) = orb.detectAndCompute(image2, None)\n",
    "\n",
    "    bf = cv2.BFMatcher(cv2.NORM_HAMMING, crossCheck=True)\n",
    "\n",
    "    matches = bf.match(des1,des2)\n",
    "    matches = sorted(matches, key=lambda val: val.distance)\n",
    "\n",
    "    return len(matches)\n",
    "\n",
    "cap = cv2.VideoCapture(0)\n",
    "\n",
    "image_template = cv2.imread('images/box_in_scene.png', 0) \n",
    "  \n",
    "\n",
    "while True:\n",
    "    ret, frame = cap.read()\n",
    "    \n",
    "    h, w = frame.shape[:2]\n",
    "\n",
    "    t_left_x = int(w/3)\n",
    "    t_left_y = int((h/2) + (h/4))\n",
    "    b_right_x = int((w/ 3)*2)\n",
    "    b_right_y = int((h/2) - (h/4))\n",
    "\n",
    "    cv2.rectangle(frame, (t_left_x,t_left_y), (b_right_x,b_right_y), 255, 2)\n",
    "    cropped = frame[b_right_y:t_left_y , t_left_x:b_right_x]\n",
    "    frame = cv2.flip(frame,1)     \n",
    "\n",
    "    matches = Object_detect(cropped, image_template)\n",
    "    \n",
    "    output_string = \"Matches = \" + str(matches)\n",
    "    cv2.putText(frame, output_string, (200,460), cv2.FONT_HERSHEY_COMPLEX, 1, (0,255,0), 2)\n",
    "    \n",
    "    threshold = 380    \n",
    "   \n",
    "    if matches > threshold:\n",
    "        cv2.rectangle(frame, (t_left_x,t_left_y), (b_right_x,b_right_y), (0,225,255), 2)\n",
    "        cv2.putText(frame,'Object Found',(170,45), cv2.FONT_HERSHEY_COMPLEX, 1.4 ,(0,0,255), 2)\n",
    "    \n",
    "    cv2.imshow('Object Detector', frame)    \n",
    "    if cv2.waitKey(1) == 13: \n",
    "        break\n",
    "\n",
    "cap.release()\n",
    "\n",
    "cv2.destroyAllWindows()   "
   ]
  },
  {
   "cell_type": "code",
   "execution_count": null,
   "metadata": {},
   "outputs": [],
   "source": []
  }
 ],
 "metadata": {
  "kernelspec": {
   "display_name": "Python 3",
   "language": "python",
   "name": "python3"
  },
  "language_info": {
   "codemirror_mode": {
    "name": "ipython",
    "version": 3
   },
   "file_extension": ".py",
   "mimetype": "text/x-python",
   "name": "python",
   "nbconvert_exporter": "python",
   "pygments_lexer": "ipython3",
   "version": "3.7.4"
  }
 },
 "nbformat": 4,
 "nbformat_minor": 2
}
